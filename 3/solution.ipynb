{
 "cells": [
  {
   "cell_type": "code",
   "execution_count": 131,
   "metadata": {},
   "outputs": [
    {
     "data": {
      "text/plain": [
       "'\\napparently any number adjacent to a symbol, even diagonally, is a \"part number\" and should be included in your sum.\\n(Periods (.) do not count as a symbol.)\\n\\n467..114..\\n...*......\\n..35..633.\\n......#...\\n617*......\\n.....+.58.\\n..592.....\\n......755.\\n...$.*....\\n.664.598..\\n\\n\\n\\nthey are not adjacent to a symbol: 114 (top right) and 58 (middle right).\\nEvery other number is adjacent to a symbol and so is a part number; their sum is 4361.\\n\\n'"
      ]
     },
     "execution_count": 131,
     "metadata": {},
     "output_type": "execute_result"
    }
   ],
   "source": [
    "\"\"\"\n",
    "apparently any number adjacent to a symbol, even diagonally, is a \"part number\" and should be included in your sum.\n",
    "(Periods (.) do not count as a symbol.)\n",
    "\n",
    "467..114..\n",
    "...*......\n",
    "..35..633.\n",
    "......#...\n",
    "617*......\n",
    ".....+.58.\n",
    "..592.....\n",
    "......755.\n",
    "...$.*....\n",
    ".664.598..\n",
    "\n",
    "\n",
    "\n",
    "they are not adjacent to a symbol: 114 (top right) and 58 (middle right).\n",
    "Every other number is adjacent to a symbol and so is a part number; their sum is 4361.\n",
    "\n",
    "\"\"\""
   ]
  },
  {
   "cell_type": "code",
   "execution_count": 132,
   "metadata": {},
   "outputs": [],
   "source": [
    "example_schematics = \"\"\"\n",
    "467..114..\n",
    "...*......\n",
    "..35..633.\n",
    "......#..*\n",
    "617*....11\n",
    ".....+.58.\n",
    "..592.....\n",
    "......755.\n",
    "...$.*....\n",
    ".664.598..\"\"\"\n",
    "\n",
    "symbols = ['*','#','$', '+']"
   ]
  },
  {
   "cell_type": "code",
   "execution_count": 133,
   "metadata": {},
   "outputs": [],
   "source": [
    "# plan: \n",
    "# 1. function to identify numbers in the string\n",
    "# 2. function to check if number is adjacent to a symbol\n",
    "# 3. sum all up"
   ]
  },
  {
   "cell_type": "code",
   "execution_count": 136,
   "metadata": {},
   "outputs": [
    {
     "name": "stdout",
     "output_type": "stream",
     "text": [
      "['467', '114', '35', '633', '617', '11', '58', '592', '755', '664', '598']\n",
      "symbol bottom\n",
      ".\n",
      "5\n",
      "9\n",
      "8\n",
      ".\n",
      " not:  114\n",
      ".\n",
      ".\n",
      "*\n",
      "symbol top\n",
      ".\n",
      ".\n",
      ".\n",
      ".\n",
      ".\n",
      "symbol bottom\n",
      "symbol right\n",
      ".\n",
      "5\n",
      "9\n",
      "8\n",
      " not:  11\n",
      ".\n",
      ".\n",
      "1\n",
      "1\n",
      " not:  58\n",
      ".\n",
      ".\n",
      ".\n",
      ".\n",
      "+\n",
      "symbol top\n",
      ".\n",
      ".\n",
      ".\n",
      ".\n",
      ".\n",
      "symbol bottom\n",
      ".\n",
      ".\n",
      ".\n",
      "$\n",
      "symbol top\n",
      ".\n",
      "*\n",
      "symbol top\n",
      "4361\n"
     ]
    }
   ],
   "source": [
    "def is_adjacent(number, schematics) -> int:\n",
    "  line_of_number = 0\n",
    "  for i, line in enumerate(schematics):\n",
    "    pos_number = line.find(n)\n",
    "    if(pos_number != -1):\n",
    "      line_of_number = i\n",
    "      break\n",
    "\n",
    "  length = len(number)\n",
    "\n",
    "  # print(schematics[line_of_number][pos_number + length]) # 3\n",
    "  # check if symbol is left or right of number\n",
    "  if pos_number - 1 > 0:\n",
    "    if schematics[line_of_number][pos_number - 1] in symbols:\n",
    "      print('symbol left')\n",
    "      return True\n",
    "  \n",
    "  if pos_number + length < len(schematics[0]):\n",
    "    if schematics[line_of_number][pos_number + length] in symbols:\n",
    "      print('symbol right')\n",
    "      return True\n",
    "  \n",
    "  if pos_number+length+1 >= len(schematics[line_of_number]):\n",
    "    end = len(schematics[line_of_number])\n",
    "  else:\n",
    "    end = pos_number+length+1\n",
    "\n",
    "  # check if symbol is above digits +-1\n",
    "  for top_symbol in schematics[line_of_number - 1][pos_number-1:end]:\n",
    "    print(top_symbol)\n",
    "    if(top_symbol in symbols):\n",
    "      print('symbol top')\n",
    "      return True\n",
    "\n",
    "  if pos_number - 1 < 0:\n",
    "    start = 0\n",
    "  else:\n",
    "    start = pos_number - 1\n",
    "\n",
    "  for bottom_symbol in schematics[line_of_number + 1][start:pos_number+length+1]:\n",
    "    if(bottom_symbol in symbols):\n",
    "      print('symbol bottom')\n",
    "      return True\n",
    "\n",
    "  return False\n",
    "\n",
    "\n",
    "#find all digits within each line\n",
    "# 1. find all index positions of all numbers\n",
    "def get_all_numbers(schematics):\n",
    "  all_numbers = []\n",
    "  for line in schematics.split():\n",
    "    number = \"\"\n",
    "    for i, char in enumerate(line):\n",
    "      if(char.isnumeric()):\n",
    "        number += char\n",
    "        # append if line end\n",
    "        if(i == len(line)-1):\n",
    "          all_numbers.append(number)\n",
    "          number = \"\"\n",
    "\n",
    "      # append after next char isn't numberic\n",
    "      elif (len(number) != 0):\n",
    "        all_numbers.append(number)\n",
    "        number = \"\"\n",
    "\n",
    "  return all_numbers\n",
    "\n",
    "print(get_all_numbers(example_schematics))\n",
    "\n",
    "sum = 0\n",
    "ns = get_all_numbers(example_schematics)\n",
    "\n",
    "for n in ns:\n",
    "  if is_adjacent(n, example_schematics.split()):\n",
    "    sum += int(n)\n",
    "  else:\n",
    "    print(\" not: \", n)\n",
    "\n",
    "print(sum)\n"
   ]
  },
  {
   "cell_type": "code",
   "execution_count": 135,
   "metadata": {},
   "outputs": [
    {
     "name": "stdout",
     "output_type": "stream",
     "text": [
      "['...................305.124................................432..............................................576..313.....514.................\\n', '.............113...-......&....................&...819...........654..../..........................&901................*....869.257.........\\n']\n"
     ]
    }
   ],
   "source": [
    "f = open(\"input.txt\", \"r\")\n",
    "l = f.readlines()\n",
    "\n",
    "print(l[:2])"
   ]
  }
 ],
 "metadata": {
  "kernelspec": {
   "display_name": "Python 3",
   "language": "python",
   "name": "python3"
  },
  "language_info": {
   "codemirror_mode": {
    "name": "ipython",
    "version": 3
   },
   "file_extension": ".py",
   "mimetype": "text/x-python",
   "name": "python",
   "nbconvert_exporter": "python",
   "pygments_lexer": "ipython3",
   "version": "3.9.13"
  }
 },
 "nbformat": 4,
 "nbformat_minor": 2
}
