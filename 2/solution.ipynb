{
 "cells": [
  {
   "cell_type": "code",
   "execution_count": 100,
   "metadata": {},
   "outputs": [
    {
     "data": {
      "text/plain": [
       "\"\\nEach time you play this game, he will hide a secret number of cubes of each color in the bag, \\nand your goal is to figure out information about the number of cubes.\\n\\n\\nTo get information, once a bag has been loaded with cubes, the Elf will reach into the bag, \\ngrab a handful of random cubes, show them to you, and then put them back in the bag. He'll do this a few times per game.\\n\\n\\n\""
      ]
     },
     "execution_count": 100,
     "metadata": {},
     "output_type": "execute_result"
    }
   ],
   "source": [
    "\"\"\"\n",
    "Each time you play this game, he will hide a secret number of cubes of each color in the bag, \n",
    "and your goal is to figure out information about the number of cubes.\n",
    "\n",
    "\n",
    "To get information, once a bag has been loaded with cubes, the Elf will reach into the bag, \n",
    "grab a handful of random cubes, show them to you, and then put them back in the bag. He'll do this a few times per game.\n",
    "\n",
    "\n",
    "\"\"\""
   ]
  },
  {
   "cell_type": "code",
   "execution_count": 101,
   "metadata": {},
   "outputs": [
    {
     "data": {
      "text/plain": [
       "'\\nDetermine which games would have been possible if the bag had been loaded with only 12 red cubes, 13 green cubes, and 14 blue cubes. \\nWhat is the sum of the IDs of those games?\\n'"
      ]
     },
     "execution_count": 101,
     "metadata": {},
     "output_type": "execute_result"
    }
   ],
   "source": [
    "\"\"\"\n",
    "Determine which games would have been possible if the bag had been loaded with only 12 red cubes, 13 green cubes, and 14 blue cubes. \n",
    "What is the sum of the IDs of those games?\n",
    "\"\"\""
   ]
  },
  {
   "cell_type": "code",
   "execution_count": 102,
   "metadata": {},
   "outputs": [
    {
     "data": {
      "text/plain": [
       "'\\nGame 1: 3 blue, 4 red; 1 red, 2 green, 6 blue; 2 green\\nGame 2: 1 blue, 2 green; 3 green, 4 blue, 1 red; 1 green, 1 blue\\n'"
      ]
     },
     "execution_count": 102,
     "metadata": {},
     "output_type": "execute_result"
    }
   ],
   "source": [
    "\"\"\"\n",
    "Game 1: 3 blue, 4 red; 1 red, 2 green, 6 blue; 2 green\n",
    "Game 2: 1 blue, 2 green; 3 green, 4 blue, 1 red; 1 green, 1 blue\n",
    "\"\"\""
   ]
  },
  {
   "cell_type": "code",
   "execution_count": 103,
   "metadata": {},
   "outputs": [],
   "source": [
    "example_games = \"\"\"Game 1: 3 blue, 4 red; 1 red, 2 green, 6 blue; 2 green \\n\\\n",
    "Game 2: 1 blue, 2 green; 3 green, 4 blue, 1 red; 1 green, 1 blue \\n\\\n",
    "Game 3: 8 green, 6 blue, 20 red; 5 blue, 4 red, 13 green; 5 green, 1 red \\n\\\n",
    "Game 4: 1 green, 3 red, 6 blue; 3 green, 6 red; 3 green, 15 blue, 14 red \\n\\\n",
    "Game 5: 6 red, 1 blue, 3 green; 2 blue, 1 red, 2 green\"\"\""
   ]
  },
  {
   "cell_type": "code",
   "execution_count": 129,
   "metadata": {},
   "outputs": [
    {
     "name": "stdout",
     "output_type": "stream",
     "text": [
      "345\n"
     ]
    }
   ],
   "source": [
    "\"test123 345  --> 345\"\n",
    "\"\"\"\n",
    "get digits of number\n",
    "\"\"\"\n",
    "def get_digits(string):\n",
    "  res = \"\"\n",
    "  for i in range(len(string)):\n",
    "    letter = string[len(string)-i-1]\n",
    "    if(letter == \" \"):\n",
    "      break\n",
    "    res += letter\n",
    "\n",
    "  return res[::-1]\n",
    "\n",
    "print(get_digits(\"test123 345\"))"
   ]
  },
  {
   "cell_type": "code",
   "execution_count": 105,
   "metadata": {},
   "outputs": [
    {
     "data": {
      "text/plain": [
       "['Game 2: 1 blue, 2 green', ' 3 green, 4 blue, 1 red', ' 1 green, 1 blue']"
      ]
     },
     "execution_count": 105,
     "metadata": {},
     "output_type": "execute_result"
    }
   ],
   "source": [
    "\"\"\"\n",
    "split game string into drawings \n",
    "\n",
    "Game 2: 1 blue, 2 green; 3 green, 4 blue, 1 red; 1 green, 1 blue -->\n",
    "1 blue, 2 green\n",
    "3 green, 4 blue, 1 red\n",
    "1 green, 1 blue\n",
    "\"\"\"\n",
    "\n",
    "test = \"Game 2: 1 blue, 2 green; 3 green, 4 blue, 1 red; 1 green, 1 blue\"\n",
    "test.split(\";\")"
   ]
  },
  {
   "cell_type": "code",
   "execution_count": 106,
   "metadata": {},
   "outputs": [],
   "source": [
    "colors = [\"red\", \"green\", \"blue\"]\n",
    "colors_max = [12,13,14]"
   ]
  },
  {
   "cell_type": "code",
   "execution_count": null,
   "metadata": {},
   "outputs": [],
   "source": []
  },
  {
   "cell_type": "code",
   "execution_count": 107,
   "metadata": {},
   "outputs": [],
   "source": [
    "def sum_possible_games(games) -> int:\n",
    "  possible_sum = 0\n",
    "  for game in games:\n",
    "    game_name = game.split(\":\")[0]\n",
    "    game_name_id = get_digits(game_name)\n",
    "    is_possible_game = True\n",
    "\n",
    "    #split game into independent drawings\n",
    "    drawings = game.split(\";\")\n",
    "    for drawing in drawings:\n",
    "      for i_color, color in enumerate(colors):\n",
    "        idx =drawing.find(color) # ex. blue: where b is\n",
    "        if(idx == -1):\n",
    "          continue\n",
    "\n",
    "        # form \" xyz color_string \" --> find 2nd space left of color_string\n",
    "        color_string = drawing[0:idx-1]\n",
    "        color_amount = get_digits(color_string)\n",
    "\n",
    "        if int(color_amount) > colors_max[i_color]:\n",
    "          is_possible_game = False\n",
    "          print(f\"{game_name} is not possible due to {color} (amount: {color_amount})\")\n",
    "          break # first fail is sufficient, avoid listing same game multiple times\n",
    "    \n",
    "    if is_possible_game:\n",
    "      possible_sum += int(game_name_id)\n",
    "\n",
    "  return possible_sum\n"
   ]
  },
  {
   "cell_type": "code",
   "execution_count": 108,
   "metadata": {},
   "outputs": [
    {
     "name": "stdout",
     "output_type": "stream",
     "text": [
      "Game 3 is not possible due to red (amount: 20)\n",
      "Game 4 is not possible due to red (amount: 14)\n",
      "Possible Sum: 8\n"
     ]
    }
   ],
   "source": [
    "#test Should be 8\n",
    "example_games = example_games.split(\"\\n\")\n",
    "possible_sum = sum_possible_games(example_games)\n",
    "print(f\"Possible Sum: {possible_sum}\")"
   ]
  },
  {
   "cell_type": "code",
   "execution_count": 109,
   "metadata": {},
   "outputs": [],
   "source": [
    "file = open(\"input.txt\", \"r\")\n",
    "lines = file.readlines()"
   ]
  },
  {
   "cell_type": "code",
   "execution_count": 110,
   "metadata": {},
   "outputs": [
    {
     "name": "stdout",
     "output_type": "stream",
     "text": [
      "Game 1 is not possible due to blue (amount: 15)\n",
      "Game 2 is not possible due to blue (amount: 18)\n",
      "Game 2 is not possible due to green (amount: 14)\n",
      "Game 2 is not possible due to green (amount: 14)\n",
      "Game 5 is not possible due to red (amount: 13)\n",
      "Game 5 is not possible due to blue (amount: 16)\n",
      "Game 5 is not possible due to blue (amount: 16)\n",
      "Game 6 is not possible due to blue (amount: 17)\n",
      "Game 7 is not possible due to green (amount: 14)\n",
      "Game 7 is not possible due to red (amount: 15)\n",
      "Game 7 is not possible due to red (amount: 13)\n",
      "Game 9 is not possible due to green (amount: 14)\n",
      "Game 10 is not possible due to blue (amount: 16)\n",
      "Game 10 is not possible due to red (amount: 15)\n",
      "Game 12 is not possible due to red (amount: 14)\n",
      "Game 12 is not possible due to red (amount: 13)\n",
      "Game 12 is not possible due to red (amount: 13)\n",
      "Game 13 is not possible due to red (amount: 15)\n",
      "Game 13 is not possible due to green (amount: 14)\n",
      "Game 16 is not possible due to green (amount: 14)\n",
      "Game 16 is not possible due to green (amount: 14)\n",
      "Game 19 is not possible due to red (amount: 15)\n",
      "Game 20 is not possible due to blue (amount: 15)\n",
      "Game 20 is not possible due to red (amount: 13)\n",
      "Game 20 is not possible due to blue (amount: 15)\n",
      "Game 21 is not possible due to red (amount: 15)\n",
      "Game 23 is not possible due to green (amount: 20)\n",
      "Game 26 is not possible due to red (amount: 20)\n",
      "Game 27 is not possible due to green (amount: 14)\n",
      "Game 27 is not possible due to green (amount: 15)\n",
      "Game 28 is not possible due to green (amount: 19)\n",
      "Game 30 is not possible due to blue (amount: 17)\n",
      "Game 31 is not possible due to blue (amount: 17)\n",
      "Game 32 is not possible due to red (amount: 15)\n",
      "Game 32 is not possible due to green (amount: 15)\n",
      "Game 33 is not possible due to blue (amount: 16)\n",
      "Game 33 is not possible due to green (amount: 14)\n",
      "Game 33 is not possible due to green (amount: 14)\n",
      "Game 33 is not possible due to blue (amount: 17)\n",
      "Game 35 is not possible due to red (amount: 19)\n",
      "Game 35 is not possible due to red (amount: 16)\n",
      "Game 35 is not possible due to red (amount: 18)\n",
      "Game 36 is not possible due to green (amount: 15)\n",
      "Game 36 is not possible due to green (amount: 14)\n",
      "Game 37 is not possible due to green (amount: 16)\n",
      "Game 38 is not possible due to red (amount: 19)\n",
      "Game 39 is not possible due to red (amount: 15)\n",
      "Game 39 is not possible due to red (amount: 15)\n",
      "Game 42 is not possible due to red (amount: 14)\n",
      "Game 42 is not possible due to green (amount: 14)\n",
      "Game 43 is not possible due to blue (amount: 19)\n",
      "Game 44 is not possible due to red (amount: 14)\n",
      "Game 46 is not possible due to green (amount: 16)\n",
      "Game 47 is not possible due to green (amount: 16)\n",
      "Game 49 is not possible due to green (amount: 20)\n",
      "Game 49 is not possible due to green (amount: 20)\n",
      "Game 50 is not possible due to red (amount: 14)\n",
      "Game 51 is not possible due to red (amount: 16)\n",
      "Game 52 is not possible due to green (amount: 18)\n",
      "Game 53 is not possible due to red (amount: 13)\n",
      "Game 54 is not possible due to red (amount: 13)\n",
      "Game 55 is not possible due to red (amount: 18)\n",
      "Game 55 is not possible due to red (amount: 16)\n",
      "Game 55 is not possible due to green (amount: 14)\n",
      "Game 55 is not possible due to green (amount: 14)\n",
      "Game 56 is not possible due to blue (amount: 17)\n",
      "Game 57 is not possible due to red (amount: 13)\n",
      "Game 57 is not possible due to red (amount: 13)\n",
      "Game 59 is not possible due to red (amount: 17)\n",
      "Game 61 is not possible due to green (amount: 17)\n",
      "Game 61 is not possible due to green (amount: 18)\n",
      "Game 62 is not possible due to green (amount: 14)\n",
      "Game 64 is not possible due to green (amount: 17)\n",
      "Game 66 is not possible due to blue (amount: 20)\n",
      "Game 67 is not possible due to green (amount: 19)\n",
      "Game 68 is not possible due to green (amount: 17)\n",
      "Game 69 is not possible due to blue (amount: 17)\n",
      "Game 73 is not possible due to red (amount: 14)\n",
      "Game 73 is not possible due to red (amount: 13)\n",
      "Game 77 is not possible due to green (amount: 14)\n",
      "Game 78 is not possible due to red (amount: 14)\n",
      "Game 78 is not possible due to red (amount: 16)\n",
      "Game 83 is not possible due to green (amount: 14)\n",
      "Game 84 is not possible due to blue (amount: 16)\n",
      "Game 85 is not possible due to red (amount: 17)\n",
      "Game 85 is not possible due to blue (amount: 18)\n",
      "Game 85 is not possible due to blue (amount: 18)\n",
      "Game 87 is not possible due to red (amount: 15)\n",
      "Game 90 is not possible due to red (amount: 15)\n",
      "Game 91 is not possible due to red (amount: 17)\n",
      "Game 91 is not possible due to red (amount: 14)\n",
      "Game 91 is not possible due to red (amount: 16)\n",
      "Game 97 is not possible due to blue (amount: 15)\n",
      "Game 98 is not possible due to red (amount: 14)\n",
      "Game 99 is not possible due to red (amount: 15)\n",
      "Game 99 is not possible due to red (amount: 18)\n",
      "Possible Sum: 2237\n"
     ]
    }
   ],
   "source": [
    "possible_sum = sum_possible_games(lines)\n",
    "print(f\"Possible Sum: {possible_sum}\")"
   ]
  },
  {
   "cell_type": "code",
   "execution_count": 111,
   "metadata": {},
   "outputs": [
    {
     "data": {
      "text/plain": [
       "' 2nd part :\\nin each game you played, what is the fewest number of cubes of each color that could have been\\nin the bag to make the game possible?\\n\\nsolution:\\nfind the highest amount of each color\\n'"
      ]
     },
     "execution_count": 111,
     "metadata": {},
     "output_type": "execute_result"
    }
   ],
   "source": [
    "\"\"\" 2nd part :\n",
    "in each game you played, what is the fewest number of cubes of each color that could have been\n",
    "in the bag to make the game possible?\n",
    "\n",
    "solution:\n",
    "find the highest amount of each color\n",
    "\"\"\""
   ]
  },
  {
   "cell_type": "code",
   "execution_count": 112,
   "metadata": {},
   "outputs": [
    {
     "data": {
      "text/plain": [
       "['Game 1: 3 blue, 4 red; 1 red, 2 green, 6 blue; 2 green ',\n",
       " 'Game 2: 1 blue, 2 green; 3 green, 4 blue, 1 red; 1 green, 1 blue ',\n",
       " 'Game 3: 8 green, 6 blue, 20 red; 5 blue, 4 red, 13 green; 5 green, 1 red ',\n",
       " 'Game 4: 1 green, 3 red, 6 blue; 3 green, 6 red; 3 green, 15 blue, 14 red ',\n",
       " 'Game 5: 6 red, 1 blue, 3 green; 2 blue, 1 red, 2 green']"
      ]
     },
     "execution_count": 112,
     "metadata": {},
     "output_type": "execute_result"
    }
   ],
   "source": [
    "example_games"
   ]
  },
  {
   "cell_type": "code",
   "execution_count": 127,
   "metadata": {},
   "outputs": [
    {
     "data": {
      "text/plain": [
       "2286"
      ]
     },
     "execution_count": 127,
     "metadata": {},
     "output_type": "execute_result"
    }
   ],
   "source": [
    "\"\"\"\n",
    "get power sum:\n",
    "1. find highest amount of each color\n",
    "2. multiply highest amounts --> power\n",
    "3. add all up to get power sum \n",
    "\"\"\"\n",
    "\n",
    "\n",
    "def get_power(games) -> int:\n",
    "  sum_power = 0\n",
    "  for game in games:\n",
    "    game_name = game.split(\":\")[0]\n",
    "    game_name_id = get_digits(game_name)\n",
    "\n",
    "    highest = [0,0,0]\n",
    "\n",
    "    #split game into independent drawings\n",
    "    drawings = game.split(\";\")\n",
    "    for drawing in drawings:\n",
    "      for i_color, color in enumerate(colors):\n",
    "        idx =drawing.find(color) # ex. blue: where b is\n",
    "        if(idx == -1):\n",
    "          continue\n",
    "\n",
    "        # form \" xyz color_string \" --> find 2nd space left of color_string\n",
    "        color_string = drawing[0:idx-1]\n",
    "        color_amount = get_digits(color_string)\n",
    "\n",
    "        if int(color_amount) > highest[i_color]:\n",
    "          highest[i_color] = int(color_amount)\n",
    "\n",
    "    #print(f\"{game_name} : {highest}\")\n",
    "    power = highest[0] * highest[1] * highest[2]\n",
    "    if highest[0] == 0 or highest[1] == 0 or highest[2] == 0:\n",
    "      print(\"edge case: one amount is zero\")\n",
    "    sum_power += power\n",
    "\n",
    "  return sum_power\n",
    "\n",
    "get_power(example_games)"
   ]
  },
  {
   "cell_type": "code",
   "execution_count": 128,
   "metadata": {},
   "outputs": [
    {
     "data": {
      "text/plain": [
       "66681"
      ]
     },
     "execution_count": 128,
     "metadata": {},
     "output_type": "execute_result"
    }
   ],
   "source": [
    "get_power(lines)"
   ]
  },
  {
   "cell_type": "code",
   "execution_count": null,
   "metadata": {},
   "outputs": [],
   "source": []
  }
 ],
 "metadata": {
  "kernelspec": {
   "display_name": "Python 3",
   "language": "python",
   "name": "python3"
  },
  "language_info": {
   "codemirror_mode": {
    "name": "ipython",
    "version": 3
   },
   "file_extension": ".py",
   "mimetype": "text/x-python",
   "name": "python",
   "nbconvert_exporter": "python",
   "pygments_lexer": "ipython3",
   "version": "3.9.13"
  }
 },
 "nbformat": 4,
 "nbformat_minor": 2
}
